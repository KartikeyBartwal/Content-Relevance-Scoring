{
  "cells": [
    {
      "cell_type": "code",
      "execution_count": 3,
      "metadata": {
        "colab": {
          "base_uri": "https://localhost:8080/"
        },
        "id": "kMFnagT_fm9v",
        "outputId": "9660da20-9bbd-479d-b780-a7b85e743972"
      },
      "outputs": [
        {
          "output_type": "stream",
          "name": "stderr",
          "text": [
            "[nltk_data] Downloading package punkt to /root/nltk_data...\n",
            "[nltk_data]   Package punkt is already up-to-date!\n",
            "WARNING:gensim.models.ldamodel:too few updates, training might not converge; consider increasing the number of passes or iterations to improve accuracy\n"
          ]
        }
      ],
      "source": [
        "import gensim\n",
        "from gensim import corpora\n",
        "from gensim.models import LdaModel\n",
        "from gensim.parsing.preprocessing import STOPWORDS\n",
        "from gensim.utils import simple_preprocess\n",
        "import nltk\n",
        "nltk.download('punkt')\n",
        "\n",
        "documents = [\n",
        "  '''\n",
        "  This is the document\n",
        "  '''\n",
        "]\n",
        "\n",
        "# Preprocess the documents\n",
        "def preprocess(text):\n",
        "    # Tokenize and remove stopwords\n",
        "    return [token for token in simple_preprocess(text) if token not in STOPWORDS]\n",
        "\n",
        "processed_docs = [preprocess(doc) for doc in documents]\n",
        "\n",
        "# Create a dictionary from the processed documents\n",
        "dictionary = corpora.Dictionary(processed_docs)\n",
        "\n",
        "# Create a corpus (bag of words)\n",
        "corpus = [dictionary.doc2bow(doc) for doc in processed_docs]\n",
        "\n",
        "# Train the LDA model\n",
        "num_topics = 2  # You can adjust this number based on your needs\n",
        "lda_model = LdaModel(corpus=corpus, id2word=dictionary, num_topics=num_topics, random_state=42)"
      ]
    },
    {
      "cell_type": "code",
      "execution_count": 4,
      "metadata": {
        "colab": {
          "base_uri": "https://localhost:8080/"
        },
        "id": "BTITfjogk1Y3",
        "outputId": "06ca1b69-4f6e-4d35-8525-7294fad7e9e2"
      },
      "outputs": [
        {
          "output_type": "stream",
          "name": "stdout",
          "text": [
            "Topics:\n",
            "Topic 0: 1.000*\"document\"\n",
            "Topic 1: 1.000*\"document\"\n"
          ]
        }
      ],
      "source": [
        "# Print the topics\n",
        "print(\"Topics:\")\n",
        "for idx, topic in lda_model.print_topics(-1):\n",
        "    print(f\"Topic {idx}: {topic}\")\n",
        "\n",
        "# # Infer topics for a new document\n",
        "# new_doc = \"This is the title\"\n",
        "# bow_vector = dictionary.doc2bow(preprocess(new_doc))\n",
        "# for index, score in sorted(lda_model[bow_vector], key=lambda tup: -1*tup[1]):\n",
        "#     print(f\"Score: {score:.4f} Topic: {lda_model.print_topic(index, 5)}\")"
      ]
    },
    {
      "cell_type": "code",
      "source": [],
      "metadata": {
        "id": "a5siJt6jQ5fU"
      },
      "execution_count": null,
      "outputs": []
    },
    {
      "cell_type": "code",
      "source": [],
      "metadata": {
        "id": "MFAULR5oQ5h6"
      },
      "execution_count": null,
      "outputs": []
    },
    {
      "cell_type": "code",
      "source": [],
      "metadata": {
        "id": "fMrdaEuIQ5kP"
      },
      "execution_count": null,
      "outputs": []
    },
    {
      "cell_type": "code",
      "execution_count": null,
      "metadata": {
        "colab": {
          "base_uri": "https://localhost:8080/"
        },
        "id": "8jy4pcGchRvj",
        "outputId": "3b6def73-a237-4678-c08e-76cac8d8fed3"
      },
      "outputs": [
        {
          "name": "stderr",
          "output_type": "stream",
          "text": [
            "[nltk_data] Downloading package punkt to /root/nltk_data...\n",
            "[nltk_data]   Package punkt is already up-to-date!\n",
            "WARNING:gensim.models.ldamodel:too few updates, training might not converge; consider increasing the number of passes or iterations to improve accuracy\n"
          ]
        },
        {
          "name": "stdout",
          "output_type": "stream",
          "text": [
            "Topics:\n",
            "Topic 0: 0.300*\"prime\" + 0.241*\"sentinal\" + 0.231*\"vs\" + 0.229*\"optimus\"\n",
            "Topic 1: 0.351*\"prime\" + 0.219*\"optimus\" + 0.218*\"vs\" + 0.212*\"sentinal\"\n",
            "Score: 0.5000 Topic: 0.300*\"prime\" + 0.241*\"sentinal\" + 0.231*\"vs\" + 0.229*\"optimus\"\n",
            "Score: 0.5000 Topic: 0.351*\"prime\" + 0.219*\"optimus\" + 0.218*\"vs\" + 0.212*\"sentinal\"\n"
          ]
        }
      ],
      "source": [
        "import gensim\n",
        "from gensim import corpora\n",
        "from gensim.models import LdaModel\n",
        "from gensim.parsing.preprocessing import STOPWORDS\n",
        "from gensim.utils import simple_preprocess\n",
        "import nltk\n",
        "nltk.download('punkt')\n",
        "\n",
        "# Sample documents (replace with your own corpus)\n",
        "documents = [\n",
        "  '''\n",
        "  optimus prime vs sentinal prime\n",
        "  '''\n",
        "]\n",
        "\n",
        "# Preprocess the documents\n",
        "def preprocess(text):\n",
        "    # Tokenize and remove stopwords\n",
        "    return [token for token in simple_preprocess(text) if token not in STOPWORDS]\n",
        "\n",
        "processed_docs = [preprocess(doc) for doc in documents]\n",
        "\n",
        "# Create a dictionary from the processed documents\n",
        "dictionary = corpora.Dictionary(processed_docs)\n",
        "\n",
        "# Create a corpus (bag of words)\n",
        "corpus = [dictionary.doc2bow(doc) for doc in processed_docs]\n",
        "\n",
        "# Train the LDA model\n",
        "num_topics = 2  # You can adjust this number based on your needs\n",
        "lda_model = LdaModel(corpus=corpus, id2word=dictionary, num_topics=num_topics, random_state=42)\n",
        "\n",
        "# Print the topics\n",
        "print(\"Topics:\")\n",
        "for idx, topic in lda_model.print_topics(-1):\n",
        "    print(f\"Topic {idx}: {topic}\")\n",
        "\n",
        "# Infer topics for a new document\n",
        "new_doc = \"Artificial intelligence and machine learning are transforming various industries\"\n",
        "bow_vector = dictionary.doc2bow(preprocess(new_doc))\n",
        "for index, score in sorted(lda_model[bow_vector], key=lambda tup: -1*tup[1]):\n",
        "    print(f\"Score: {score:.4f} Topic: {lda_model.print_topic(index, 5)}\")"
      ]
    },
    {
      "cell_type": "code",
      "execution_count": null,
      "metadata": {
        "id": "t28Lr3nfjqs2"
      },
      "outputs": [],
      "source": []
    },
    {
      "cell_type": "code",
      "execution_count": null,
      "metadata": {
        "id": "iRJVcn05jqwT"
      },
      "outputs": [],
      "source": []
    },
    {
      "cell_type": "code",
      "execution_count": null,
      "metadata": {
        "colab": {
          "background_save": true,
          "base_uri": "https://localhost:8080/"
        },
        "id": "R_bPdbtpjqyR",
        "outputId": "b86e4fe1-0582-4877-d5bc-3e40dafb1d02"
      },
      "outputs": [
        {
          "name": "stdout",
          "output_type": "stream",
          "text": [
            "Score1: 73.41\n",
            "Score2: 71.22\n",
            "Score2: 70.86\n"
          ]
        }
      ],
      "source": [
        "import torch\n",
        "from transformers import BertTokenizer, BertModel\n",
        "from sklearn.feature_extraction.text import CountVectorizer\n",
        "import numpy as np\n",
        "\n",
        "# Load pre-trained BERT model and tokenizer\n",
        "tokenizer = BertTokenizer.from_pretrained('bert-base-uncased')\n",
        "model = BertModel.from_pretrained('bert-base-uncased')\n",
        "\n",
        "def get_embedding(text):\n",
        "    # Tokenize the input text\n",
        "    inputs = tokenizer(text, return_tensors='pt', padding=True, truncation=True)\n",
        "\n",
        "    # Get the embeddings for the text\n",
        "    with torch.no_grad():\n",
        "        outputs = model(**inputs)\n",
        "\n",
        "    # Extract the embeddings of the [CLS] token (the first token)\n",
        "    embedding = outputs.last_hidden_state[0][0]\n",
        "    return embedding\n",
        "\n",
        "def compute_cosine_similarity(embedding1, embedding2):\n",
        "    return torch.nn.functional.cosine_similarity(embedding1, embedding2, dim=0)\n",
        "\n",
        "def compute_keyword_overlap(topic, essay):\n",
        "    vectorizer = CountVectorizer().fit([topic, essay])\n",
        "    vectors = vectorizer.transform([topic, essay])\n",
        "    overlap = np.dot(vectors[0].toarray(), vectors[1].toarray().T)[0][0]\n",
        "    return overlap / (np.linalg.norm(vectors[0].toarray()) * np.linalg.norm(vectors[1].toarray()))\n",
        "\n",
        "def compute_similarity(topic, essay):\n",
        "    # Get embeddings for topic and essay\n",
        "    topic_embedding = get_embedding(topic)\n",
        "    essay_embedding = get_embedding(essay)\n",
        "\n",
        "    # Compute cosine similarity between the embeddings\n",
        "    cosine_similarity = compute_cosine_similarity(topic_embedding, essay_embedding).item()\n",
        "\n",
        "    # Compute keyword overlap\n",
        "    keyword_overlap = compute_keyword_overlap(topic, essay)\n",
        "\n",
        "    # Combine cosine similarity and keyword overlap into a final score\n",
        "    combined_score = (cosine_similarity + keyword_overlap) / 2\n",
        "\n",
        "    # Scale similarity score to a range of 0 to 100\n",
        "    score = (combined_score + 1) * 50\n",
        "    return score\n",
        "\n",
        "# Example usage\n",
        "topic1 = \"The impact of artificial intelligence on modern society\"\n",
        "essay1 = \"Artificial intelligence has revolutionized various aspects of our lives. From smart assistants to autonomous vehicles, AI is reshaping how we interact with technology. However, this rapid advancement also raises ethical concerns and questions about job displacement. As AI continues to evolve, it's crucial to consider both its benefits and potential drawbacks on society.\"\n",
        "\n",
        "topic2 = \"The impact of porn on modern society\"\n",
        "essay2 = \"Artificial intelligence has revolutionized various aspects of our lives. From smart assistants to autonomous vehicles, AI is reshaping how we interact with technology. However, this rapid advancement also raises ethical concerns and questions about job displacement. As AI continues to evolve, it's crucial to consider both its benefits and potential drawbacks on society.\"\n",
        "\n",
        "topic3 = \"The impact of porn on modern society\"\n",
        "essay3 = \"Artificial intelligence has revolutionized various aspects of our lives. From smart assistants to autonomous vehicles, AI is reshaping how we interact with technology. However, this rapid advancement also raises ethical concerns and questions about job displacement. As AI continues to evolve, it's crucial to consider both its benefits and potential drawbacks on society.\"\n",
        "\n",
        "score1 = compute_similarity(topic1, essay1)\n",
        "score2 = compute_similarity(topic2, essay2)\n",
        "score3 = compute_similarity(topic3, essay3)\n",
        "\n",
        "print(f\"Score1: {score1:.2f}\")\n",
        "print(f\"Score2: {score2:.2f}\")\n",
        "print(f\"Score2: {score2:.2f}\")"
      ]
    },
    {
      "cell_type": "code",
      "source": [
        "!pip install sentence_transformers"
      ],
      "metadata": {
        "colab": {
          "base_uri": "https://localhost:8080/"
        },
        "id": "1Vbsk3dXTDxQ",
        "outputId": "2f088b72-9323-4fc3-b32e-4069cff6e54f"
      },
      "execution_count": 6,
      "outputs": [
        {
          "output_type": "stream",
          "name": "stdout",
          "text": [
            "Collecting sentence_transformers\n",
            "  Downloading sentence_transformers-3.0.1-py3-none-any.whl (227 kB)\n",
            "\u001b[2K     \u001b[90m━━━━━━━━━━━━━━━━━━━━━━━━━━━━━━━━━━━━━━━━\u001b[0m \u001b[32m227.1/227.1 kB\u001b[0m \u001b[31m2.0 MB/s\u001b[0m eta \u001b[36m0:00:00\u001b[0m\n",
            "\u001b[?25hRequirement already satisfied: transformers<5.0.0,>=4.34.0 in /usr/local/lib/python3.10/dist-packages (from sentence_transformers) (4.42.4)\n",
            "Requirement already satisfied: tqdm in /usr/local/lib/python3.10/dist-packages (from sentence_transformers) (4.66.4)\n",
            "Requirement already satisfied: torch>=1.11.0 in /usr/local/lib/python3.10/dist-packages (from sentence_transformers) (2.3.1+cu121)\n",
            "Requirement already satisfied: numpy in /usr/local/lib/python3.10/dist-packages (from sentence_transformers) (1.25.2)\n",
            "Requirement already satisfied: scikit-learn in /usr/local/lib/python3.10/dist-packages (from sentence_transformers) (1.2.2)\n",
            "Requirement already satisfied: scipy in /usr/local/lib/python3.10/dist-packages (from sentence_transformers) (1.11.4)\n",
            "Requirement already satisfied: huggingface-hub>=0.15.1 in /usr/local/lib/python3.10/dist-packages (from sentence_transformers) (0.23.5)\n",
            "Requirement already satisfied: Pillow in /usr/local/lib/python3.10/dist-packages (from sentence_transformers) (9.4.0)\n",
            "Requirement already satisfied: filelock in /usr/local/lib/python3.10/dist-packages (from huggingface-hub>=0.15.1->sentence_transformers) (3.15.4)\n",
            "Requirement already satisfied: fsspec>=2023.5.0 in /usr/local/lib/python3.10/dist-packages (from huggingface-hub>=0.15.1->sentence_transformers) (2023.6.0)\n",
            "Requirement already satisfied: packaging>=20.9 in /usr/local/lib/python3.10/dist-packages (from huggingface-hub>=0.15.1->sentence_transformers) (24.1)\n",
            "Requirement already satisfied: pyyaml>=5.1 in /usr/local/lib/python3.10/dist-packages (from huggingface-hub>=0.15.1->sentence_transformers) (6.0.1)\n",
            "Requirement already satisfied: requests in /usr/local/lib/python3.10/dist-packages (from huggingface-hub>=0.15.1->sentence_transformers) (2.31.0)\n",
            "Requirement already satisfied: typing-extensions>=3.7.4.3 in /usr/local/lib/python3.10/dist-packages (from huggingface-hub>=0.15.1->sentence_transformers) (4.12.2)\n",
            "Requirement already satisfied: sympy in /usr/local/lib/python3.10/dist-packages (from torch>=1.11.0->sentence_transformers) (1.13.0)\n",
            "Requirement already satisfied: networkx in /usr/local/lib/python3.10/dist-packages (from torch>=1.11.0->sentence_transformers) (3.3)\n",
            "Requirement already satisfied: jinja2 in /usr/local/lib/python3.10/dist-packages (from torch>=1.11.0->sentence_transformers) (3.1.4)\n",
            "Collecting nvidia-cuda-nvrtc-cu12==12.1.105 (from torch>=1.11.0->sentence_transformers)\n",
            "  Using cached nvidia_cuda_nvrtc_cu12-12.1.105-py3-none-manylinux1_x86_64.whl (23.7 MB)\n",
            "Collecting nvidia-cuda-runtime-cu12==12.1.105 (from torch>=1.11.0->sentence_transformers)\n",
            "  Using cached nvidia_cuda_runtime_cu12-12.1.105-py3-none-manylinux1_x86_64.whl (823 kB)\n",
            "Collecting nvidia-cuda-cupti-cu12==12.1.105 (from torch>=1.11.0->sentence_transformers)\n",
            "  Using cached nvidia_cuda_cupti_cu12-12.1.105-py3-none-manylinux1_x86_64.whl (14.1 MB)\n",
            "Collecting nvidia-cudnn-cu12==8.9.2.26 (from torch>=1.11.0->sentence_transformers)\n",
            "  Using cached nvidia_cudnn_cu12-8.9.2.26-py3-none-manylinux1_x86_64.whl (731.7 MB)\n",
            "Collecting nvidia-cublas-cu12==12.1.3.1 (from torch>=1.11.0->sentence_transformers)\n",
            "  Using cached nvidia_cublas_cu12-12.1.3.1-py3-none-manylinux1_x86_64.whl (410.6 MB)\n",
            "Collecting nvidia-cufft-cu12==11.0.2.54 (from torch>=1.11.0->sentence_transformers)\n",
            "  Using cached nvidia_cufft_cu12-11.0.2.54-py3-none-manylinux1_x86_64.whl (121.6 MB)\n",
            "Collecting nvidia-curand-cu12==10.3.2.106 (from torch>=1.11.0->sentence_transformers)\n",
            "  Using cached nvidia_curand_cu12-10.3.2.106-py3-none-manylinux1_x86_64.whl (56.5 MB)\n",
            "Collecting nvidia-cusolver-cu12==11.4.5.107 (from torch>=1.11.0->sentence_transformers)\n",
            "  Using cached nvidia_cusolver_cu12-11.4.5.107-py3-none-manylinux1_x86_64.whl (124.2 MB)\n",
            "Collecting nvidia-cusparse-cu12==12.1.0.106 (from torch>=1.11.0->sentence_transformers)\n",
            "  Using cached nvidia_cusparse_cu12-12.1.0.106-py3-none-manylinux1_x86_64.whl (196.0 MB)\n",
            "Collecting nvidia-nccl-cu12==2.20.5 (from torch>=1.11.0->sentence_transformers)\n",
            "  Using cached nvidia_nccl_cu12-2.20.5-py3-none-manylinux2014_x86_64.whl (176.2 MB)\n",
            "Collecting nvidia-nvtx-cu12==12.1.105 (from torch>=1.11.0->sentence_transformers)\n",
            "  Using cached nvidia_nvtx_cu12-12.1.105-py3-none-manylinux1_x86_64.whl (99 kB)\n",
            "Requirement already satisfied: triton==2.3.1 in /usr/local/lib/python3.10/dist-packages (from torch>=1.11.0->sentence_transformers) (2.3.1)\n",
            "Collecting nvidia-nvjitlink-cu12 (from nvidia-cusolver-cu12==11.4.5.107->torch>=1.11.0->sentence_transformers)\n",
            "  Downloading nvidia_nvjitlink_cu12-12.5.82-py3-none-manylinux2014_x86_64.whl (21.3 MB)\n",
            "\u001b[2K     \u001b[90m━━━━━━━━━━━━━━━━━━━━━━━━━━━━━━━━━━━━━━━━\u001b[0m \u001b[32m21.3/21.3 MB\u001b[0m \u001b[31m52.3 MB/s\u001b[0m eta \u001b[36m0:00:00\u001b[0m\n",
            "\u001b[?25hRequirement already satisfied: regex!=2019.12.17 in /usr/local/lib/python3.10/dist-packages (from transformers<5.0.0,>=4.34.0->sentence_transformers) (2024.5.15)\n",
            "Requirement already satisfied: safetensors>=0.4.1 in /usr/local/lib/python3.10/dist-packages (from transformers<5.0.0,>=4.34.0->sentence_transformers) (0.4.3)\n",
            "Requirement already satisfied: tokenizers<0.20,>=0.19 in /usr/local/lib/python3.10/dist-packages (from transformers<5.0.0,>=4.34.0->sentence_transformers) (0.19.1)\n",
            "Requirement already satisfied: joblib>=1.1.1 in /usr/local/lib/python3.10/dist-packages (from scikit-learn->sentence_transformers) (1.4.2)\n",
            "Requirement already satisfied: threadpoolctl>=2.0.0 in /usr/local/lib/python3.10/dist-packages (from scikit-learn->sentence_transformers) (3.5.0)\n",
            "Requirement already satisfied: MarkupSafe>=2.0 in /usr/local/lib/python3.10/dist-packages (from jinja2->torch>=1.11.0->sentence_transformers) (2.1.5)\n",
            "Requirement already satisfied: charset-normalizer<4,>=2 in /usr/local/lib/python3.10/dist-packages (from requests->huggingface-hub>=0.15.1->sentence_transformers) (3.3.2)\n",
            "Requirement already satisfied: idna<4,>=2.5 in /usr/local/lib/python3.10/dist-packages (from requests->huggingface-hub>=0.15.1->sentence_transformers) (3.7)\n",
            "Requirement already satisfied: urllib3<3,>=1.21.1 in /usr/local/lib/python3.10/dist-packages (from requests->huggingface-hub>=0.15.1->sentence_transformers) (2.0.7)\n",
            "Requirement already satisfied: certifi>=2017.4.17 in /usr/local/lib/python3.10/dist-packages (from requests->huggingface-hub>=0.15.1->sentence_transformers) (2024.7.4)\n",
            "Requirement already satisfied: mpmath<1.4,>=1.1.0 in /usr/local/lib/python3.10/dist-packages (from sympy->torch>=1.11.0->sentence_transformers) (1.3.0)\n",
            "Installing collected packages: nvidia-nvtx-cu12, nvidia-nvjitlink-cu12, nvidia-nccl-cu12, nvidia-curand-cu12, nvidia-cufft-cu12, nvidia-cuda-runtime-cu12, nvidia-cuda-nvrtc-cu12, nvidia-cuda-cupti-cu12, nvidia-cublas-cu12, nvidia-cusparse-cu12, nvidia-cudnn-cu12, nvidia-cusolver-cu12, sentence_transformers\n",
            "Successfully installed nvidia-cublas-cu12-12.1.3.1 nvidia-cuda-cupti-cu12-12.1.105 nvidia-cuda-nvrtc-cu12-12.1.105 nvidia-cuda-runtime-cu12-12.1.105 nvidia-cudnn-cu12-8.9.2.26 nvidia-cufft-cu12-11.0.2.54 nvidia-curand-cu12-10.3.2.106 nvidia-cusolver-cu12-11.4.5.107 nvidia-cusparse-cu12-12.1.0.106 nvidia-nccl-cu12-2.20.5 nvidia-nvjitlink-cu12-12.5.82 nvidia-nvtx-cu12-12.1.105 sentence_transformers-3.0.1\n"
          ]
        }
      ]
    },
    {
      "cell_type": "code",
      "execution_count": 58,
      "metadata": {
        "id": "K-BSxdk0lc1m"
      },
      "outputs": [],
      "source": [
        "from sentence_transformers import SentenceTransformer, util\n",
        "\n",
        "query = \"The importance of urban green spaces\"\n",
        "docs = [\"Urban green spaces are vital for the health and well-being of city dwellers. Parks, gardens, and tree-lined streets provide a much-needed respite from the concrete jungle, offering areas for relaxation, exercise, and social interaction. These natural havens improve air quality by filtering pollutants and producing oxygen. They also help mitigate the urban heat island effect, reducing temperatures in densely populated areas. Green spaces support biodiversity, providing habitats for various plant and animal species within urban environments. Moreover, they contribute to mental health by reducing stress and promoting mindfulness. As cities continue to grow, it's crucial that urban planners prioritize the preservation and creation of green spaces to ensure livable, sustainable cities for future generations.\" , \"Upload your speech audio file to get a raw transcription, pronunciation and fluency scores of your speech. This tool uses advanced speech recognition to transcribe your audio and evaluate pronunciation quality. Note that the translations that it provides are raw and is exactly what an average person hears of. The misspelled words in the transcription are not fixed because this raw translation is important for your scoring\", \"in order to change i have to be something or not i came here to turn things around to become the best in the world unless id beat some one stronger than me that loa a ma a anan ban man m ana ban a man anan bo\"]\n",
        "\n",
        "#Load the model\n",
        "model = SentenceTransformer('sentence-transformers/msmarco-distilbert-cos-v5')"
      ]
    },
    {
      "cell_type": "code",
      "source": [
        "docs = \"urban\""
      ],
      "metadata": {
        "id": "a13Z4k2FWm5Y"
      },
      "execution_count": 59,
      "outputs": []
    },
    {
      "cell_type": "code",
      "source": [
        "#Encode query and documents\n",
        "query_emb = model.encode(query)\n",
        "doc_emb = model.encode(docs)"
      ],
      "metadata": {
        "id": "_k6j8tLhTCLs"
      },
      "execution_count": 60,
      "outputs": []
    },
    {
      "cell_type": "code",
      "source": [
        "query_emb.shape"
      ],
      "metadata": {
        "colab": {
          "base_uri": "https://localhost:8080/"
        },
        "id": "fXpqwpNVTr_N",
        "outputId": "970a7e2e-1888-4b90-ada4-7bd45ca75e8e"
      },
      "execution_count": 61,
      "outputs": [
        {
          "output_type": "execute_result",
          "data": {
            "text/plain": [
              "(768,)"
            ]
          },
          "metadata": {},
          "execution_count": 61
        }
      ]
    },
    {
      "cell_type": "code",
      "source": [
        "doc_emb.shape"
      ],
      "metadata": {
        "colab": {
          "base_uri": "https://localhost:8080/"
        },
        "id": "0XNnpJyWTsB-",
        "outputId": "ca7c80f9-8d1a-45d2-ac73-46edf0e79302"
      },
      "execution_count": 62,
      "outputs": [
        {
          "output_type": "execute_result",
          "data": {
            "text/plain": [
              "(768,)"
            ]
          },
          "metadata": {},
          "execution_count": 62
        }
      ]
    },
    {
      "cell_type": "code",
      "source": [
        "query_emb"
      ],
      "metadata": {
        "colab": {
          "base_uri": "https://localhost:8080/"
        },
        "id": "iajLp39PUGQ-",
        "outputId": "b0ef0356-3afd-438f-eeec-2757c15c7b41"
      },
      "execution_count": 63,
      "outputs": [
        {
          "output_type": "execute_result",
          "data": {
            "text/plain": [
              "array([-1.53356036e-02, -1.37274200e-02,  2.66055632e-02,  3.59833948e-02,\n",
              "        3.04549467e-02,  1.50385695e-02, -6.10584393e-02,  2.23194994e-02,\n",
              "       -7.18197748e-02, -3.25868987e-02, -3.83623727e-02, -6.42792508e-02,\n",
              "       -6.37580175e-03,  2.59747100e-03,  2.44397167e-02,  1.31479204e-02,\n",
              "       -2.60523502e-02, -1.63934790e-02,  3.21543473e-03,  6.48022303e-03,\n",
              "        1.69414934e-02, -5.33828959e-02, -2.93269400e-02,  2.95225102e-02,\n",
              "        4.27778736e-02, -1.70110837e-02, -3.29770036e-02,  3.19257677e-02,\n",
              "       -3.40852663e-02,  2.78953817e-02,  8.51008762e-03, -6.69292547e-03,\n",
              "       -4.27724347e-02,  2.45844759e-02,  5.25137968e-02,  1.90054823e-03,\n",
              "        1.35711511e-03, -5.34118935e-02, -6.45285770e-02,  2.43115909e-02,\n",
              "       -7.73120113e-03,  6.63633123e-02,  4.05159825e-03,  1.38615891e-02,\n",
              "        2.32236423e-02,  2.85917222e-02, -7.97701478e-02, -8.49186815e-03,\n",
              "        2.70489417e-02, -1.61854289e-02,  4.39286381e-02, -3.55898738e-02,\n",
              "       -4.12222221e-02,  2.47125514e-02, -2.75481455e-02,  1.13529274e-02,\n",
              "        2.19964497e-02,  5.24033643e-02, -2.10764650e-02,  2.43626256e-03,\n",
              "       -2.89424304e-02, -6.99914545e-02,  1.26232868e-02,  5.73983565e-02,\n",
              "       -1.27704293e-02, -2.48262491e-02, -8.45791399e-02,  1.02572248e-03,\n",
              "        2.96797715e-02,  4.24679443e-02, -5.70661426e-02,  2.04413515e-02,\n",
              "       -6.58870814e-03, -9.72167961e-03, -1.23787247e-01,  2.63187233e-02,\n",
              "        7.52000720e-04,  1.55678634e-02, -8.65835175e-02,  3.95328850e-02,\n",
              "       -1.75365375e-03,  1.38208168e-02, -1.36804562e-02,  6.36700764e-02,\n",
              "        4.08625416e-02, -3.92473564e-02, -3.01501490e-02,  2.55593751e-02,\n",
              "       -1.55617399e-02,  9.56115313e-03, -3.99197377e-02, -3.70301306e-03,\n",
              "        7.25067733e-03,  5.21412268e-02,  5.12863360e-02,  4.39954586e-02,\n",
              "        4.52328240e-03, -6.13633171e-02, -1.33560738e-02,  5.26323076e-03,\n",
              "        8.52842908e-03,  1.50929112e-02, -4.14394513e-02, -2.47067306e-02,\n",
              "       -6.91557303e-02, -4.97514494e-02, -2.60533635e-02,  8.03026184e-03,\n",
              "        2.17476971e-02,  6.15703035e-03,  2.15744395e-02,  1.78858470e-02,\n",
              "        3.53078395e-02,  1.94017752e-03,  8.91925693e-02,  7.65329376e-02,\n",
              "        6.46081334e-03,  3.48637514e-02,  3.39349657e-02,  2.16361992e-02,\n",
              "       -2.06539948e-02,  6.67676935e-03, -5.50553994e-03,  7.86488205e-02,\n",
              "       -6.85601979e-02, -7.80690601e-03, -2.58757323e-02,  4.83304709e-02,\n",
              "       -2.12430186e-03,  4.47396860e-02, -6.39031455e-03, -2.34538708e-02,\n",
              "       -3.09300609e-02, -8.91664997e-02, -1.72871649e-02,  2.66076438e-03,\n",
              "       -3.92881781e-02,  6.94260700e-03,  2.38412898e-02,  9.18084290e-03,\n",
              "       -1.76264122e-02,  1.89455170e-02,  9.70348343e-02,  9.31608491e-03,\n",
              "        1.08244792e-01, -2.94769835e-02,  2.15293635e-02, -3.68907140e-03,\n",
              "       -4.77759726e-03, -3.62053998e-02,  1.56700741e-02, -7.39377737e-03,\n",
              "        3.95587552e-03, -2.69422941e-02,  1.23567795e-02,  1.45369619e-02,\n",
              "       -8.10350552e-02,  9.52399895e-02,  4.70288731e-02,  1.39596565e-02,\n",
              "       -2.32764781e-02, -4.36035432e-02,  2.26492286e-02,  3.66938300e-02,\n",
              "       -4.99420725e-02, -2.07760017e-02,  3.31196599e-02, -2.42799111e-02,\n",
              "        4.03070077e-02,  6.40079554e-04,  1.64160840e-02, -4.98739863e-03,\n",
              "       -5.20295138e-03,  2.03799733e-04,  7.23355636e-02,  1.08023770e-02,\n",
              "       -6.50057453e-04,  6.69375341e-03, -3.02562341e-02,  1.92818679e-02,\n",
              "       -2.46506631e-02, -7.42793381e-02,  3.75086516e-02, -4.37582098e-03,\n",
              "        5.46276523e-03, -3.15530300e-02, -6.07177988e-02,  3.19927298e-02,\n",
              "        3.37108895e-02,  6.28232434e-02, -2.60724202e-02,  4.80986722e-02,\n",
              "       -1.85206756e-02, -5.07648811e-02, -4.15429249e-02, -6.47314191e-02,\n",
              "        6.60277233e-02, -5.23136258e-02, -3.30156572e-02,  2.54836474e-02,\n",
              "        5.47567895e-03, -4.77560945e-02,  1.81861948e-02, -2.59260368e-02,\n",
              "        3.93834636e-02, -2.03432012e-02, -1.09534422e-02,  2.01102775e-02,\n",
              "       -8.47176239e-02, -3.01388893e-02, -3.37313861e-02,  1.03508262e-02,\n",
              "        2.79275067e-02,  1.87962595e-02,  4.04650159e-02, -7.75271580e-02,\n",
              "        3.03172655e-02,  2.11097877e-02, -5.41291535e-02, -1.45538561e-02,\n",
              "        3.62505428e-02, -1.12794973e-02, -2.65225745e-03, -1.74881816e-02,\n",
              "       -6.35425327e-03, -7.54333287e-02,  5.33293560e-03,  6.09235559e-03,\n",
              "        4.85444106e-02,  3.19466218e-02,  5.31312870e-03,  7.95234740e-02,\n",
              "       -6.16084002e-02, -2.18424257e-02, -3.47350352e-02,  2.08015125e-02,\n",
              "        2.39404831e-02,  1.50247514e-02,  3.33394147e-02, -4.74444516e-02,\n",
              "       -2.15936489e-02, -3.24918292e-02, -1.93374921e-02,  1.21028591e-02,\n",
              "        3.43986750e-02, -4.65665422e-02, -3.37150618e-02, -1.66092217e-02,\n",
              "        1.82023551e-02, -3.57293822e-02, -4.14506830e-02, -4.15022671e-02,\n",
              "        3.15158404e-02, -2.69651506e-02, -3.17895003e-02, -5.99509850e-02,\n",
              "        2.07223874e-02,  5.95407235e-03,  2.55205613e-02,  2.85064639e-03,\n",
              "        9.05109849e-03, -2.55907550e-02, -2.58807838e-02,  5.88040939e-03,\n",
              "       -1.76754836e-02, -2.54257489e-02,  1.75412968e-02,  5.38901612e-03,\n",
              "       -7.54315853e-02,  2.50095390e-02, -1.39768543e-02,  9.39757098e-03,\n",
              "        5.14302067e-02, -1.82115491e-02,  1.85264833e-02, -3.06055378e-02,\n",
              "        1.37007944e-02,  5.87371998e-02,  5.89587279e-02,  3.57463956e-02,\n",
              "       -1.16352551e-02, -1.19800335e-02, -1.73841175e-02, -1.73326172e-02,\n",
              "        2.15519145e-02,  1.09104611e-01,  4.35437821e-03,  4.04600427e-02,\n",
              "       -1.05904110e-01, -4.14836640e-03,  3.46288527e-03, -2.43037101e-02,\n",
              "       -1.12394420e-02,  4.06818241e-02,  6.57107756e-02,  3.66146527e-02,\n",
              "       -1.11018144e-01, -6.20725788e-02,  9.31927562e-03,  1.94802845e-03,\n",
              "        1.79382246e-02,  4.23108563e-02,  4.60616834e-02,  8.60344560e-04,\n",
              "       -3.15513350e-02,  2.01415503e-03, -4.87479456e-02,  1.53802037e-02,\n",
              "       -1.03859873e-02,  5.12253195e-02,  2.44077835e-02,  5.07994853e-02,\n",
              "       -6.48624748e-02,  2.38303337e-02, -1.84280034e-02,  7.44759617e-03,\n",
              "        5.23920022e-02, -4.62281406e-02, -4.16542068e-02, -7.97551870e-02,\n",
              "       -8.57884879e-04,  2.24398007e-03,  3.58803733e-03,  7.82861114e-02,\n",
              "        5.82698248e-02,  8.25944729e-03, -4.03633304e-02, -2.91812290e-02,\n",
              "        1.70723564e-04, -6.95054606e-02, -2.27624737e-02, -1.42588876e-02,\n",
              "        4.66281734e-02, -1.64346602e-02, -5.48118986e-02,  1.84688263e-03,\n",
              "       -5.48893549e-02,  1.98863428e-02,  6.54698461e-02, -6.89967209e-03,\n",
              "       -3.97370989e-03, -1.41808270e-02,  3.47877033e-02,  7.15421289e-02,\n",
              "        7.26382341e-03, -2.86746444e-03, -6.10911138e-02, -3.81413451e-03,\n",
              "        4.20317985e-02,  1.97700616e-02,  1.39852529e-02,  6.72948137e-02,\n",
              "        5.05359890e-03,  2.11516619e-02,  3.05283479e-02, -7.03496858e-02,\n",
              "        4.03410457e-02, -2.43391283e-02, -2.60858890e-02,  3.22598703e-02,\n",
              "        2.32398435e-02, -4.25241701e-02, -6.04292750e-02,  5.89279793e-02,\n",
              "        4.68875319e-02, -2.06146464e-02,  3.16266119e-02, -4.07531485e-02,\n",
              "        3.73197980e-02,  7.05184368e-03, -2.05725487e-02,  4.48243786e-03,\n",
              "        3.20451222e-02,  4.25386727e-02, -2.58332882e-02,  2.15917192e-02,\n",
              "       -3.93923521e-02, -1.86583232e-02, -7.80803617e-03,  3.87032703e-02,\n",
              "       -4.38612327e-02, -1.57546494e-02, -7.19634909e-03, -2.63003004e-03,\n",
              "       -1.84642188e-02, -1.63068660e-02,  6.57099299e-03, -2.18950678e-02,\n",
              "       -3.44002545e-02, -5.22464029e-02,  4.10976773e-03,  4.94990014e-02,\n",
              "       -1.54531188e-02, -1.30612322e-03,  5.13640083e-02, -1.94576588e-02,\n",
              "        1.82767455e-02,  4.70668077e-02, -5.15956618e-03,  1.00059398e-02,\n",
              "       -8.41675512e-03,  3.14681306e-02,  2.52896845e-02, -4.10391726e-02,\n",
              "        2.15699468e-02,  2.25812551e-02, -1.37664676e-02,  2.51298882e-02,\n",
              "       -5.85913397e-02,  1.48348520e-02, -2.72651073e-02,  8.04525465e-02,\n",
              "       -3.88337523e-02,  4.11840715e-02, -5.03676105e-03, -3.80038226e-04,\n",
              "       -2.06044270e-03, -1.62129067e-02,  6.06563129e-02,  5.49675226e-02,\n",
              "       -1.58284269e-02, -3.34931500e-02,  9.44378749e-02,  3.09447665e-02,\n",
              "        3.90361287e-02,  3.27681564e-02,  6.43712580e-02, -2.29982496e-03,\n",
              "        3.59397307e-02,  4.66628037e-02,  4.70702536e-02,  6.93433136e-02,\n",
              "        3.20511572e-02,  2.37403996e-02,  1.06986361e-02, -3.85559932e-03,\n",
              "        1.44591965e-02, -2.07031481e-02,  2.69165565e-03,  6.14590682e-02,\n",
              "       -8.49330612e-03, -1.81044620e-02, -3.20396642e-03,  1.01512931e-02,\n",
              "        5.82304336e-02, -5.51267937e-02, -5.16633969e-03,  5.55385500e-02,\n",
              "        5.00750132e-02, -1.73596246e-03,  4.65128198e-02, -1.68792997e-02,\n",
              "        2.77666133e-02, -2.21425351e-02,  6.98062629e-02, -7.43600214e-03,\n",
              "        1.67166349e-02,  2.70917229e-02, -2.19713785e-02, -3.02261263e-02,\n",
              "       -1.61208548e-02, -1.30513879e-02,  2.35512666e-02, -8.27765390e-02,\n",
              "       -1.27894599e-02, -1.10151218e-02,  4.29541804e-02, -3.96680459e-03,\n",
              "        1.15380180e-03,  3.61458659e-02, -5.53130871e-03, -4.47807945e-02,\n",
              "        1.76460799e-02, -3.25543284e-02,  3.52205411e-02, -5.25233857e-02,\n",
              "       -7.82547370e-02,  1.36355422e-02, -6.14134409e-03, -6.62261173e-02,\n",
              "       -4.51617278e-02, -2.31137462e-02, -5.94072491e-02, -8.90057385e-02,\n",
              "        1.43710105e-02, -1.79255437e-02, -1.55315530e-02,  1.52624622e-02,\n",
              "        5.24576567e-03,  1.66587103e-02, -3.16308476e-02,  1.35654230e-02,\n",
              "        4.89587188e-02, -5.14036193e-02, -3.37290093e-02,  1.09247714e-02,\n",
              "       -3.38719189e-02, -3.17801274e-02,  2.92762853e-02,  8.75038002e-03,\n",
              "       -1.53655866e-02,  3.80894244e-02,  1.50418316e-03,  5.71646029e-03,\n",
              "        1.88214832e-03, -6.88419193e-02,  3.19637172e-02, -8.66442174e-03,\n",
              "       -4.25365008e-02, -4.76848371e-02, -6.14507012e-02,  6.04872815e-02,\n",
              "        2.16887239e-03, -1.56606417e-02,  1.52959651e-03,  3.02419835e-03,\n",
              "       -2.09235121e-02, -1.49042308e-02, -6.37373999e-02,  7.90569093e-03,\n",
              "        3.44705931e-03, -1.67994890e-02, -2.76967846e-02, -1.21946158e-02,\n",
              "       -7.17038065e-02, -2.57542748e-02, -7.84535408e-02,  1.93778500e-02,\n",
              "       -2.21517924e-02, -1.71846375e-02, -4.00156528e-02,  1.74545217e-02,\n",
              "        1.35856839e-02,  1.62257522e-03, -1.56471762e-03,  4.57870029e-03,\n",
              "       -5.24280109e-02, -1.94440316e-02, -4.21436243e-02, -2.69319955e-02,\n",
              "        7.22795026e-03,  4.96904030e-02, -2.24717408e-02, -1.11237876e-02,\n",
              "       -2.57587817e-04, -6.02597836e-03,  3.18951230e-03,  9.66617092e-02,\n",
              "       -3.05115711e-03, -4.25427221e-02, -8.16515647e-03, -5.07444181e-02,\n",
              "        2.70980559e-02,  1.68536827e-02, -1.37896715e-02,  2.89037405e-03,\n",
              "        8.12148675e-03, -4.41670194e-02,  4.46453039e-03, -2.14581117e-02,\n",
              "       -3.68705275e-03, -6.22548796e-02, -4.79480848e-02,  2.03016251e-02,\n",
              "       -2.23220652e-03,  2.39154138e-02,  2.34803930e-03, -2.84800567e-02,\n",
              "        2.03828514e-02, -2.50599515e-02,  9.19694081e-03, -4.19702288e-03,\n",
              "        1.75823260e-03,  1.60682350e-02,  3.90078798e-02, -1.90335549e-02,\n",
              "       -2.15785746e-02, -3.54103670e-02, -3.61418165e-03, -9.55022499e-03,\n",
              "        2.16158237e-02, -3.83630209e-02,  1.87774953e-02, -6.02476299e-02,\n",
              "        1.14520444e-02, -1.41740283e-02, -1.28988107e-03, -7.79284984e-02,\n",
              "       -2.29996648e-02,  2.44457251e-03,  3.82817560e-03,  1.32003110e-02,\n",
              "        4.23980094e-02, -1.76120866e-02,  2.50180401e-02,  4.76076275e-05,\n",
              "        1.14920856e-02,  1.19211832e-02,  2.37214868e-03, -8.30851197e-02,\n",
              "        2.29999442e-02,  1.79453716e-02,  2.36893166e-02,  3.07419412e-02,\n",
              "       -1.05549453e-03, -1.47771789e-02,  2.16722414e-02, -6.43915404e-03,\n",
              "       -4.10191454e-02,  4.48410362e-02,  2.53192186e-02, -1.82910934e-02,\n",
              "        4.57922034e-02,  2.64461413e-02,  1.69328898e-02,  8.69357400e-03,\n",
              "       -9.26397089e-03, -3.95260155e-02, -5.48226340e-03,  2.59483717e-02,\n",
              "        1.17806029e-02,  9.21451598e-02, -8.27056915e-02,  1.94391888e-02,\n",
              "       -2.51542148e-03, -1.27772670e-02,  5.14890663e-02, -2.77405867e-04,\n",
              "       -2.93418299e-02, -4.65157591e-02,  3.69628407e-02,  1.99967306e-02,\n",
              "       -3.31357704e-03,  1.11279273e-02, -1.02372058e-02, -4.27863793e-03,\n",
              "       -1.51239587e-02,  4.23322171e-02, -3.24577019e-02,  4.06638756e-02,\n",
              "        1.83097571e-02,  2.20214520e-02, -3.57236713e-02,  2.59880573e-02,\n",
              "       -2.70707868e-02,  1.94881987e-02,  3.77563685e-02, -8.66860244e-03,\n",
              "        8.51704646e-03, -6.75016176e-03, -2.67743263e-02,  2.31161136e-02,\n",
              "       -2.73863096e-02,  4.65094335e-02, -5.94544820e-02,  1.52006950e-02,\n",
              "        2.61830445e-02,  2.66038999e-02,  8.20022542e-03,  2.24458519e-02,\n",
              "       -1.21882623e-02,  4.82126959e-02, -1.43963033e-02,  1.77958440e-02,\n",
              "        5.61155751e-03, -1.77203212e-03,  1.06537985e-02,  7.90543947e-03,\n",
              "        3.77156250e-02, -1.15983039e-02,  1.19707063e-02, -3.56289297e-02,\n",
              "        9.07443743e-03,  2.11462285e-02, -8.30496475e-03,  2.18399405e-03,\n",
              "       -1.91849191e-02, -3.90727185e-02, -5.78011423e-02,  1.83004327e-02,\n",
              "       -5.68456575e-03, -4.00781818e-02, -1.43386675e-02, -6.17475621e-03,\n",
              "        4.25779186e-02, -6.82424158e-02,  2.03999672e-02,  7.83847198e-02,\n",
              "        1.84215251e-02,  9.38161928e-03,  7.20759295e-03,  1.12991827e-02,\n",
              "        1.57062504e-02,  1.06512499e-03, -7.83975124e-02,  5.53837195e-02,\n",
              "        8.49721674e-03,  3.34406719e-02, -3.80165949e-02,  8.08609650e-02,\n",
              "       -2.16094907e-02,  6.93462277e-03, -1.81855932e-02, -4.39179391e-02,\n",
              "        2.53116041e-02,  4.12991038e-03, -6.44765329e-03,  2.24395599e-02,\n",
              "       -1.99368061e-03, -3.09073143e-02, -3.50970589e-02,  2.87768617e-02,\n",
              "       -7.22103892e-03,  2.61072232e-03, -3.13075744e-02, -7.57100806e-02,\n",
              "        3.39195207e-02,  4.14220132e-02, -1.16734402e-02, -7.14394404e-03,\n",
              "        4.50207852e-02,  1.69455484e-02, -9.10390019e-02,  2.60994174e-02,\n",
              "        1.61158424e-02,  3.12775634e-02,  3.48308496e-02,  5.31396829e-03,\n",
              "        4.31393795e-02,  1.63964499e-02, -4.11307551e-02, -1.22564537e-02,\n",
              "       -1.10726757e-02, -7.60611296e-02,  2.54817884e-02,  1.21039320e-02,\n",
              "        7.18391910e-02,  3.96352634e-02,  3.00943572e-02,  3.14431377e-02,\n",
              "       -3.03474031e-02,  7.50493305e-03, -8.55042506e-03,  9.82699096e-02,\n",
              "       -3.72341536e-02,  1.35344779e-02,  1.59885269e-02,  1.03408694e-02,\n",
              "        2.29915269e-02, -2.28043813e-02, -1.05692614e-02, -2.53306143e-02,\n",
              "       -2.87189968e-02,  5.51869832e-02,  2.67785732e-02,  3.52516882e-02,\n",
              "        2.03611646e-02,  2.24065222e-02,  8.15159921e-03, -3.56092714e-02,\n",
              "        1.65800638e-02, -7.41009181e-03,  3.00651491e-02, -3.69508564e-02,\n",
              "        1.21134007e-02,  1.35059757e-02, -3.17193568e-02, -1.92479100e-02],\n",
              "      dtype=float32)"
            ]
          },
          "metadata": {},
          "execution_count": 63
        }
      ]
    },
    {
      "cell_type": "code",
      "source": [
        "doc_emb"
      ],
      "metadata": {
        "colab": {
          "base_uri": "https://localhost:8080/"
        },
        "id": "2dXeGLqBUH3S",
        "outputId": "c3ac71f1-7fba-40cf-8b16-313444cfd234"
      },
      "execution_count": 64,
      "outputs": [
        {
          "output_type": "execute_result",
          "data": {
            "text/plain": [
              "array([-1.87318232e-02, -3.18142697e-02,  2.59631276e-02,  2.78667901e-02,\n",
              "       -4.13650833e-02,  4.59331535e-02,  2.22657025e-02, -4.47335020e-02,\n",
              "       -3.40617672e-02, -4.72656935e-02, -7.03940913e-02,  5.04460000e-02,\n",
              "       -3.50616276e-02, -3.59882601e-02,  7.14938939e-02,  2.70737364e-04,\n",
              "       -3.24144810e-02, -1.45383691e-02, -1.84519049e-02,  1.38294157e-02,\n",
              "       -1.64624080e-02, -4.89476323e-02, -2.22984375e-03,  8.30052048e-03,\n",
              "        2.14315969e-02, -2.17034314e-02, -3.98699827e-02, -1.72426365e-02,\n",
              "       -4.25605960e-02, -3.13715748e-02, -1.37965009e-02,  1.56429578e-02,\n",
              "       -2.03292537e-02,  2.36197226e-02, -8.94780084e-03, -6.00778796e-02,\n",
              "       -1.45274447e-02, -8.35073516e-02, -3.68755125e-02,  3.15170512e-02,\n",
              "        1.20429951e-03,  1.83582678e-02, -1.69655159e-02,  4.27599065e-03,\n",
              "       -7.68524874e-03, -4.68180329e-02, -3.24824937e-02, -5.88846356e-02,\n",
              "       -2.64195222e-02,  4.32756431e-02,  3.44513953e-02,  1.10061988e-02,\n",
              "       -4.28371206e-02,  5.21764625e-03,  7.92884268e-03,  1.59627218e-02,\n",
              "       -2.42769346e-03,  3.84162888e-02, -2.91693173e-02,  1.34689854e-02,\n",
              "       -5.91614917e-02,  2.57418817e-03, -5.47545543e-03,  2.09674202e-02,\n",
              "        5.52690180e-04, -6.13360060e-03, -5.27537316e-02, -8.17831233e-02,\n",
              "       -7.07651824e-02,  3.87303121e-02, -7.62476325e-02, -3.03797666e-02,\n",
              "        4.00605649e-02, -4.14635893e-03,  2.24223044e-02, -4.35377136e-02,\n",
              "        5.60139827e-02, -3.14524490e-03, -3.32398936e-02,  5.82159013e-02,\n",
              "       -4.05901782e-02,  2.49454994e-02,  9.18222498e-03,  1.25165014e-02,\n",
              "        3.23704034e-02,  2.23871078e-02, -3.93156614e-03,  6.24409728e-02,\n",
              "        6.90384535e-03, -6.75775409e-02, -2.26110481e-02, -1.02026043e-02,\n",
              "       -2.56205816e-02,  2.76433658e-02,  5.36661446e-02,  6.90924227e-02,\n",
              "       -2.70593055e-02, -3.59638669e-02, -3.16178687e-02, -4.09294898e-03,\n",
              "       -2.65558250e-02,  7.09333122e-02,  4.84054312e-02,  1.52164605e-02,\n",
              "       -2.59299688e-02, -2.36571115e-02, -3.58711518e-02,  4.95878607e-02,\n",
              "        1.70908961e-02,  2.90710712e-03,  1.00600170e-02,  6.63054138e-02,\n",
              "        2.23353226e-02,  2.27098987e-02,  1.27475217e-01, -9.93286632e-03,\n",
              "        2.94675790e-02,  6.13110922e-02,  4.10941616e-02,  8.96666534e-05,\n",
              "       -8.86873677e-02, -1.07418625e-02,  2.69766543e-02,  3.57802063e-02,\n",
              "       -8.28341320e-02,  2.37269532e-02, -6.34192452e-02, -2.76246797e-02,\n",
              "       -1.28243752e-02,  8.36511329e-02, -3.50610986e-02,  3.81139852e-02,\n",
              "       -2.98526175e-02, -1.81047171e-02, -1.78980120e-02,  1.55512989e-02,\n",
              "       -2.24253498e-02,  5.60007468e-02,  4.56157848e-02,  3.38043272e-02,\n",
              "       -7.67322779e-02, -4.99310344e-03,  2.11431608e-02,  3.15886512e-02,\n",
              "        3.98616083e-02, -1.73432361e-02,  2.32847910e-02, -8.18644464e-03,\n",
              "        6.70328562e-04,  1.73322303e-04,  4.95148972e-02,  1.52244782e-02,\n",
              "       -1.38194636e-02, -3.51340249e-02,  5.94885983e-02,  1.04382355e-02,\n",
              "        9.41515248e-03,  4.56297807e-02,  5.60399666e-02, -1.12928543e-02,\n",
              "        1.28191151e-02,  4.57759313e-02,  5.76304318e-03, -8.01424589e-03,\n",
              "       -1.93130411e-02, -4.81852219e-02, -2.81699151e-02, -4.13295291e-02,\n",
              "        3.67545746e-02, -1.22916568e-02,  2.74492744e-02, -4.95550148e-02,\n",
              "       -1.47753404e-02,  4.04437482e-02,  6.75481856e-02, -1.30372839e-02,\n",
              "        6.71232566e-02,  3.95950861e-02,  1.28799980e-03,  8.08440987e-03,\n",
              "       -9.43529606e-02,  6.05130801e-03,  4.38864343e-02,  2.68735061e-03,\n",
              "        1.80015266e-02, -1.94947701e-02, -6.60381764e-02,  3.69356088e-02,\n",
              "        3.34619582e-02,  1.32480720e-02,  6.99287727e-02, -2.77307932e-03,\n",
              "       -1.11728562e-02, -3.76615338e-02, -2.08445247e-02, -1.78618357e-04,\n",
              "        4.90756296e-02, -4.49598283e-02, -2.16661990e-02,  2.36708717e-03,\n",
              "        5.94918393e-02, -2.08181161e-02, -2.98210364e-02,  9.60925128e-03,\n",
              "       -1.78231895e-02,  1.94469504e-02, -2.90688630e-02,  8.06313066e-04,\n",
              "       -1.93639528e-02,  3.45665701e-02, -2.99043730e-02, -2.46369839e-02,\n",
              "        1.14529813e-03, -2.43720654e-02,  2.39572544e-02, -2.93628145e-02,\n",
              "        6.31349999e-03,  4.79717404e-02, -3.63085791e-02, -1.97756384e-02,\n",
              "        3.84953097e-02, -1.37522854e-02, -3.40490788e-02, -1.50681417e-02,\n",
              "        1.55508602e-02, -7.54776597e-02,  2.17490755e-02, -6.15238026e-02,\n",
              "        3.11355870e-02, -1.90755595e-02,  9.09961853e-03,  1.09455071e-01,\n",
              "       -3.70411910e-02, -2.32301131e-02, -3.68516706e-02, -2.70692282e-04,\n",
              "        1.89952180e-02, -1.79246943e-02, -1.73444580e-02, -1.28404740e-02,\n",
              "        9.96061880e-03,  1.59525629e-02,  1.01672271e-02,  1.52681954e-02,\n",
              "        4.52089123e-02, -2.85157990e-02, -1.15772709e-02, -4.67208885e-02,\n",
              "        2.54888721e-02,  3.93830836e-02, -4.16825712e-02, -7.97101110e-02,\n",
              "        4.47088107e-02, -2.82416455e-02, -3.59432772e-04, -1.16990469e-02,\n",
              "        1.40885059e-02, -1.70574095e-02,  2.12638061e-02, -1.62434243e-02,\n",
              "        1.92251187e-02, -6.13196157e-02, -5.09580560e-02, -4.15808223e-02,\n",
              "        2.43184585e-02,  1.36709195e-02, -2.10603629e-03, -2.89445766e-03,\n",
              "       -9.68977809e-02,  2.60035675e-02, -7.99347907e-02,  5.38644381e-02,\n",
              "       -7.20913429e-03,  2.04772521e-02,  4.32110243e-02, -4.85989265e-02,\n",
              "        4.99628857e-02,  5.95625490e-02,  7.40790218e-02,  3.72242145e-02,\n",
              "        8.44097231e-03,  5.75788021e-02, -1.04901541e-04, -6.88385665e-02,\n",
              "        3.35733145e-02, -3.45191024e-02,  6.56059652e-04,  2.82660164e-02,\n",
              "        1.65990312e-02, -4.37544361e-02, -3.73769477e-02, -4.08090800e-02,\n",
              "       -1.76239721e-02,  8.85577574e-02,  2.19142474e-02, -2.47477144e-02,\n",
              "       -8.56584404e-03, -2.42048837e-02, -3.54835615e-02, -5.00733219e-02,\n",
              "        4.67244051e-02,  1.73448659e-02,  4.18064632e-02,  3.67251574e-04,\n",
              "       -5.77054126e-03,  1.58069860e-02,  1.09630106e-02, -1.60715450e-02,\n",
              "        1.18825715e-02,  5.31712435e-02,  3.69880535e-02, -1.63700543e-02,\n",
              "       -1.16228070e-02,  1.00051612e-02,  5.13362233e-03,  1.31459972e-02,\n",
              "        9.26910806e-03, -1.65225181e-04, -4.87315543e-02, -3.01938448e-02,\n",
              "       -1.27268182e-02, -1.19492337e-02,  3.31833251e-02,  4.51890901e-02,\n",
              "       -1.63090341e-02,  2.07260326e-02, -5.16425930e-02, -2.11198349e-02,\n",
              "        1.63386464e-02,  2.94283982e-02,  1.70435663e-03, -1.41448872e-02,\n",
              "        6.58472702e-02, -1.83716267e-02, -2.06282223e-03,  1.32428054e-02,\n",
              "       -1.11612994e-02, -2.46191192e-02,  4.30509374e-02, -3.27010900e-02,\n",
              "        1.66712087e-02,  2.97785811e-02,  4.93023079e-03,  5.72470091e-02,\n",
              "        3.70479338e-02,  4.98002348e-03,  6.01018313e-03,  2.60178428e-02,\n",
              "        1.15567520e-02, -1.39950644e-02, -3.09185794e-04, -4.07724641e-04,\n",
              "       -9.33935633e-04,  2.09094603e-02, -6.00668155e-02, -6.24010116e-02,\n",
              "        2.74734851e-02, -1.36773316e-02, -3.40400152e-02,  4.63137813e-02,\n",
              "        9.11622681e-03,  1.18365940e-02, -3.52507946e-03,  2.65778787e-02,\n",
              "        6.15498051e-02,  6.85366616e-03,  6.27464056e-02, -2.22533736e-02,\n",
              "        1.81599334e-02,  2.37939935e-02,  2.64827255e-02,  1.74422450e-02,\n",
              "        1.72538552e-02,  6.30846173e-02, -4.34130570e-03, -9.51702707e-03,\n",
              "        4.46595810e-03, -1.30988602e-02, -1.74235255e-02,  4.58260067e-02,\n",
              "        3.70756276e-02, -2.46258564e-02, -7.09574893e-02,  2.11088005e-02,\n",
              "       -8.56104959e-03, -1.40375216e-02, -5.13104582e-03, -1.88902989e-02,\n",
              "       -9.20886397e-02, -1.63766555e-02,  1.80762094e-02, -9.02868807e-03,\n",
              "       -3.76291722e-02,  1.22513184e-02,  1.08832894e-02,  2.50187796e-02,\n",
              "        2.08285563e-02,  5.31584732e-02,  1.84463002e-02,  3.55269052e-02,\n",
              "        1.46998027e-02,  1.56976923e-03,  6.27465397e-02, -5.89964688e-02,\n",
              "        3.95987136e-03,  2.21718177e-02, -2.08574962e-02, -3.45847197e-02,\n",
              "       -4.57980298e-02,  4.30407654e-03, -3.45482454e-02,  5.37111424e-02,\n",
              "        1.22345183e-02,  1.42568043e-02, -3.66697498e-02, -1.37909865e-02,\n",
              "        1.09398635e-02, -9.91962105e-03,  8.53097718e-03,  1.47415986e-02,\n",
              "       -2.88868938e-02, -1.43675664e-02,  9.94951129e-02, -2.99211638e-03,\n",
              "        5.15297521e-03,  2.66610105e-02,  5.23170829e-02,  2.31928602e-02,\n",
              "       -2.28652097e-02,  2.14196462e-02,  5.81737980e-02,  3.16991508e-02,\n",
              "        1.40869385e-02, -2.13684849e-02, -2.07927674e-02,  3.03952564e-02,\n",
              "        2.00384222e-02,  9.14871320e-03, -1.19515667e-02,  5.20400554e-02,\n",
              "        4.46821153e-02, -3.19297537e-02, -6.57143369e-02, -4.65824781e-03,\n",
              "        9.02693048e-02, -1.79915670e-02, -9.30222683e-03,  2.05755085e-02,\n",
              "        2.36596800e-02, -1.63498316e-02,  6.74762726e-02, -2.80791502e-02,\n",
              "       -4.59533334e-02, -1.21179512e-02,  2.16159280e-02, -2.56049670e-02,\n",
              "        3.23375710e-03, -4.28652503e-02, -1.67717505e-02, -3.91761819e-03,\n",
              "        5.90024935e-03, -3.64224203e-02, -8.09078291e-03, -4.47246321e-02,\n",
              "       -8.61520879e-03, -8.82733986e-03, -1.46333193e-02, -4.72710282e-02,\n",
              "        9.87409893e-03, -1.88039970e-02,  1.77902076e-02, -4.67199273e-02,\n",
              "        1.32226609e-02, -2.98099983e-02,  7.06610158e-02, -8.31131041e-02,\n",
              "       -4.24611717e-02, -6.97274227e-04,  3.95156145e-02, -3.58421467e-02,\n",
              "        1.57815125e-02, -4.33120318e-02, -5.19441254e-02,  1.77402608e-02,\n",
              "        1.64358020e-02, -1.86647493e-02, -1.32872639e-02,  1.15660662e-02,\n",
              "        4.93074693e-02,  7.82955717e-03,  3.23848277e-02, -2.28709774e-03,\n",
              "        6.08392023e-02, -4.34224494e-03, -3.31754945e-02, -4.86986712e-03,\n",
              "       -1.73151921e-02, -4.73663723e-03, -1.02559458e-02,  1.52007062e-02,\n",
              "        3.01871654e-02,  3.73946615e-02,  1.85110755e-02,  9.52203106e-03,\n",
              "        1.33675383e-02, -6.28177226e-02,  3.55564766e-02, -4.09528147e-03,\n",
              "       -4.21701223e-02, -5.36890291e-02, -5.12974411e-02,  9.23973043e-03,\n",
              "       -8.55959672e-03, -2.75062881e-02,  2.93826405e-02, -1.68724563e-02,\n",
              "       -2.08011847e-02, -5.45834675e-02, -3.69616486e-02,  1.87611636e-02,\n",
              "       -3.24104503e-02,  2.77502416e-03, -1.02014057e-02,  5.56941656e-03,\n",
              "       -3.51498947e-02, -3.51308174e-02, -6.41821325e-02,  9.51431226e-03,\n",
              "       -1.06480867e-02, -1.46686425e-02, -2.72455625e-02, -4.56064241e-03,\n",
              "        5.33964438e-03,  1.58611946e-02, -1.54759735e-02, -4.68456112e-02,\n",
              "       -2.52203047e-02, -2.61199102e-02,  4.00056392e-02,  3.78399566e-02,\n",
              "       -3.73318344e-02,  3.83044221e-02, -1.38122337e-02, -3.87463272e-02,\n",
              "        2.22215913e-02, -3.89517881e-02, -1.57292876e-02,  2.90947929e-02,\n",
              "        3.60911898e-03, -2.29878481e-02, -7.92675316e-02, -6.08032644e-02,\n",
              "        4.84208651e-02, -2.82654557e-02, -3.31991129e-02, -1.27708707e-02,\n",
              "       -1.22000240e-02, -5.03663756e-02,  6.55688345e-02, -4.98013757e-02,\n",
              "       -2.63784770e-02, -7.52257882e-03, -3.05566937e-02, -1.03859371e-02,\n",
              "       -1.95801146e-02,  5.17285652e-02,  1.34110674e-02,  1.97180063e-02,\n",
              "        3.20338197e-02, -2.71866303e-02,  1.06655899e-02, -1.05274925e-02,\n",
              "       -1.74021255e-02,  3.53810494e-03,  1.79353990e-02,  2.03080997e-02,\n",
              "       -2.50929641e-03, -4.23519649e-02,  1.65371187e-02,  2.93263588e-02,\n",
              "        1.93026159e-02, -1.93280149e-02,  1.88510977e-02, -1.81917958e-02,\n",
              "       -4.68120575e-02,  2.52131131e-02,  2.21329108e-02, -2.38449853e-02,\n",
              "       -1.71204340e-02, -4.19446937e-04, -1.31107289e-02, -3.96261923e-03,\n",
              "        5.92136011e-02,  6.22056909e-02,  9.27545577e-02, -2.23135389e-02,\n",
              "       -3.71891297e-02,  2.93627139e-02,  6.89238682e-02, -6.83897883e-02,\n",
              "       -3.07605676e-02,  2.66512018e-02,  2.66503394e-02, -2.16364823e-02,\n",
              "        1.18408946e-03,  2.28934176e-02,  1.59677155e-02,  3.69879603e-02,\n",
              "       -3.67478468e-02, -1.83741236e-03, -4.01141457e-02, -2.23368630e-02,\n",
              "        2.72615887e-02, -6.97140768e-03,  3.56554613e-02, -9.27417632e-03,\n",
              "        3.99416452e-03, -9.24798772e-02, -7.39848912e-02,  1.87101159e-02,\n",
              "        1.88311189e-02,  1.08483151e-01, -9.10795107e-02,  2.40833629e-02,\n",
              "       -1.73959695e-02,  1.36880558e-02,  9.83469468e-03, -6.14764541e-03,\n",
              "       -1.16645060e-02,  1.19911577e-03, -2.08038948e-02,  2.59692334e-02,\n",
              "        6.99101537e-02,  9.41262231e-04, -2.28133593e-02, -1.04149636e-02,\n",
              "       -2.13663150e-02,  4.13712673e-02,  7.93422223e-05, -2.13843510e-02,\n",
              "       -2.09637918e-02,  5.32553606e-02, -2.92702448e-02,  2.45981477e-02,\n",
              "        1.51348133e-02,  1.74430832e-02, -3.03505734e-02, -4.11603190e-02,\n",
              "       -6.54135346e-02,  3.11959181e-02, -8.12092945e-02,  6.11997172e-02,\n",
              "       -6.03406802e-02, -3.23314965e-02,  2.04017553e-02, -8.08851561e-04,\n",
              "        3.47590037e-02, -5.07160882e-03, -5.11428155e-02,  1.06519535e-02,\n",
              "       -1.16377082e-02,  3.43468636e-02, -4.56902534e-02, -6.26130402e-02,\n",
              "       -1.04179140e-02,  5.58231864e-03, -1.22333532e-02, -2.20138319e-02,\n",
              "        6.62939157e-03,  1.09516690e-02,  2.47871224e-03,  1.51620694e-02,\n",
              "        1.89557541e-02,  1.43420780e-02,  4.32595648e-02, -1.54698305e-02,\n",
              "       -7.01471567e-02, -6.20543375e-04, -4.22874317e-02,  9.07613430e-03,\n",
              "       -1.78841446e-02, -2.94123683e-02, -1.54166324e-02,  9.89083126e-02,\n",
              "        3.00407428e-02, -3.63197029e-02,  2.40868726e-03,  8.42109602e-03,\n",
              "        3.57944593e-02,  5.42762317e-02,  4.80247103e-02, -3.20501835e-03,\n",
              "        7.15811849e-02, -6.66105468e-03, -7.69315064e-02,  4.63953167e-02,\n",
              "        5.36565334e-02,  3.44210421e-03, -6.97552711e-02, -1.34781096e-02,\n",
              "        5.48339710e-02,  1.97838806e-02, -2.62200497e-02, -3.29456627e-02,\n",
              "       -2.34623421e-02,  8.49449914e-03, -1.38777327e-02,  4.95332945e-03,\n",
              "        2.13813912e-02, -5.25118858e-02, -4.12719809e-02,  2.90937666e-02,\n",
              "       -1.49200661e-02,  2.62525715e-02, -1.30652799e-03, -3.88121977e-02,\n",
              "       -4.76157432e-03,  6.75814822e-02, -1.06483877e-01, -1.25728091e-02,\n",
              "       -1.76948623e-03,  3.68273864e-03, -2.79658753e-02,  4.80961204e-02,\n",
              "       -1.37669314e-02,  1.66187473e-02,  5.37750050e-02, -2.72961129e-02,\n",
              "        4.06470746e-02,  1.40531994e-02, -3.91491242e-02,  1.31902276e-02,\n",
              "        4.65050265e-02, -1.82667878e-02, -8.81986879e-03, -1.71353538e-02,\n",
              "        6.59379363e-02, -1.16921216e-02,  5.46258949e-02,  4.11902107e-02,\n",
              "       -7.17326477e-02, -7.90941417e-02, -1.41203776e-02,  8.34806785e-02,\n",
              "        6.05092011e-02,  6.55704439e-02, -1.50819654e-02,  3.40211168e-02,\n",
              "        8.77239858e-04,  8.16754997e-03, -5.06626740e-02,  8.93331319e-03,\n",
              "       -2.05360781e-02,  3.95068005e-02, -2.53186878e-02,  6.06777593e-02,\n",
              "        1.50304949e-02, -2.15059216e-03,  2.64597917e-03, -2.32589021e-02,\n",
              "        5.74073102e-03,  4.62090895e-02, -7.13603478e-03,  7.40429899e-03,\n",
              "        8.92750546e-03, -8.06327537e-03,  1.06709516e-02,  2.52470914e-02],\n",
              "      dtype=float32)"
            ]
          },
          "metadata": {},
          "execution_count": 64
        }
      ]
    },
    {
      "cell_type": "code",
      "source": [
        "#Compute dot score between query and all document embeddings\n",
        "scores = util.dot_score(query_emb, doc_emb).cpu()[0][0]"
      ],
      "metadata": {
        "id": "zOJU-UdnTqwM"
      },
      "execution_count": 65,
      "outputs": []
    },
    {
      "cell_type": "code",
      "source": [
        "float(scores)"
      ],
      "metadata": {
        "colab": {
          "base_uri": "https://localhost:8080/"
        },
        "id": "gZo1qqOxT6kJ",
        "outputId": "395127c5-fdbf-4325-8af6-d04d9f304520"
      },
      "execution_count": 67,
      "outputs": [
        {
          "output_type": "execute_result",
          "data": {
            "text/plain": [
              "0.48255735635757446"
            ]
          },
          "metadata": {},
          "execution_count": 67
        }
      ]
    },
    {
      "cell_type": "code",
      "source": [
        "#Combine docs & scores\n",
        "doc_score_pairs = list(zip(docs, scores))\n",
        "\n",
        "#Sort by decreasing score\n",
        "doc_score_pairs = sorted(doc_score_pairs, key=lambda x: x[1], reverse=True)\n",
        "\n",
        "#Output passages & scores\n",
        "for doc, score in doc_score_pairs:\n",
        "    print(score, doc)"
      ],
      "metadata": {
        "id": "CbERq40HTrfv"
      },
      "execution_count": null,
      "outputs": []
    }
  ],
  "metadata": {
    "colab": {
      "provenance": []
    },
    "kernelspec": {
      "display_name": "Python 3",
      "name": "python3"
    },
    "language_info": {
      "name": "python"
    }
  },
  "nbformat": 4,
  "nbformat_minor": 0
}